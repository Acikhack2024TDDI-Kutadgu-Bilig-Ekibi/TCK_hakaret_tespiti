{
  "cells": [
    {
      "cell_type": "code",
      "execution_count": 1,
      "metadata": {
        "colab": {
          "base_uri": "https://localhost:8080/"
        },
        "id": "THObWkJvG6YO",
        "outputId": "f7d07f81-264b-47a5-d1ea-5a2941c951a9"
      },
      "outputs": [
        {
          "output_type": "stream",
          "name": "stdout",
          "text": [
            "Mounted at /content/drive\n"
          ]
        }
      ],
      "source": [
        "from google.colab import drive\n",
        "drive.mount('/content/drive')"
      ]
    },
    {
      "cell_type": "code",
      "execution_count": 2,
      "metadata": {
        "colab": {
          "base_uri": "https://localhost:8080/"
        },
        "id": "NG6MbcMyILtA",
        "outputId": "27a72dce-ed4d-401c-b4ed-cebbb9cd8c42"
      },
      "outputs": [
        {
          "output_type": "stream",
          "name": "stdout",
          "text": [
            "Collecting keras-self-attention\n",
            "  Downloading keras-self-attention-0.51.0.tar.gz (11 kB)\n",
            "  Preparing metadata (setup.py) ... \u001b[?25l\u001b[?25hdone\n",
            "Requirement already satisfied: numpy in /usr/local/lib/python3.10/dist-packages (from keras-self-attention) (1.26.4)\n",
            "Building wheels for collected packages: keras-self-attention\n",
            "  Building wheel for keras-self-attention (setup.py) ... \u001b[?25l\u001b[?25hdone\n",
            "  Created wheel for keras-self-attention: filename=keras_self_attention-0.51.0-py3-none-any.whl size=18894 sha256=fc2346390f7898205b2b54ff4a8afd70d3ddda27ba7eabc78f59e162384263c6\n",
            "  Stored in directory: /root/.cache/pip/wheels/b8/f7/24/607b483144fb9c47b4ba2c5fba6b68e54aeee2d5bf6c05302e\n",
            "Successfully built keras-self-attention\n",
            "Installing collected packages: keras-self-attention\n",
            "Successfully installed keras-self-attention-0.51.0\n"
          ]
        }
      ],
      "source": [
        "pip install keras-self-attention\n"
      ]
    },
    {
      "cell_type": "code",
      "execution_count": 3,
      "metadata": {
        "colab": {
          "base_uri": "https://localhost:8080/"
        },
        "id": "zpvAr4noIa1d",
        "outputId": "064f4771-e458-4fa6-e97c-44a5edc2969e"
      },
      "outputs": [
        {
          "output_type": "stream",
          "name": "stderr",
          "text": [
            "[nltk_data] Downloading package stopwords to /root/nltk_data...\n",
            "[nltk_data]   Unzipping corpora/stopwords.zip.\n",
            "[nltk_data] Downloading package punkt to /root/nltk_data...\n",
            "[nltk_data]   Unzipping tokenizers/punkt.zip.\n"
          ]
        },
        {
          "output_type": "execute_result",
          "data": {
            "text/plain": [
              "True"
            ]
          },
          "metadata": {},
          "execution_count": 3
        }
      ],
      "source": [
        "import nltk\n",
        "nltk.download('stopwords')\n",
        "nltk.download('punkt')"
      ]
    },
    {
      "cell_type": "code",
      "execution_count": 5,
      "metadata": {
        "colab": {
          "base_uri": "https://localhost:8080/",
          "height": 1000
        },
        "id": "ndBwflgiKTNs",
        "outputId": "5797fd1d-d589-4f11-bc85-3c8e48f46bdc"
      },
      "outputs": [
        {
          "output_type": "stream",
          "name": "stderr",
          "text": [
            "/usr/local/lib/python3.10/dist-packages/keras/src/layers/core/embedding.py:90: UserWarning: Argument `input_length` is deprecated. Just remove it.\n",
            "  warnings.warn(\n"
          ]
        },
        {
          "output_type": "stream",
          "name": "stdout",
          "text": [
            "\u001b[1m47/47\u001b[0m \u001b[32m━━━━━━━━━━━━━━━━━━━━\u001b[0m\u001b[37m\u001b[0m \u001b[1m1s\u001b[0m 18ms/step\n"
          ]
        },
        {
          "output_type": "stream",
          "name": "stderr",
          "text": [
            "/usr/local/lib/python3.10/dist-packages/keras/src/layers/core/embedding.py:90: UserWarning: Argument `input_length` is deprecated. Just remove it.\n",
            "  warnings.warn(\n"
          ]
        },
        {
          "output_type": "stream",
          "name": "stdout",
          "text": [
            "\u001b[1m46/46\u001b[0m \u001b[32m━━━━━━━━━━━━━━━━━━━━\u001b[0m\u001b[37m\u001b[0m \u001b[1m1s\u001b[0m 6ms/step\n"
          ]
        },
        {
          "output_type": "stream",
          "name": "stderr",
          "text": [
            "/usr/local/lib/python3.10/dist-packages/keras/src/layers/core/embedding.py:90: UserWarning: Argument `input_length` is deprecated. Just remove it.\n",
            "  warnings.warn(\n"
          ]
        },
        {
          "output_type": "stream",
          "name": "stdout",
          "text": [
            "\u001b[1m46/46\u001b[0m \u001b[32m━━━━━━━━━━━━━━━━━━━━\u001b[0m\u001b[37m\u001b[0m \u001b[1m1s\u001b[0m 5ms/step\n"
          ]
        },
        {
          "output_type": "stream",
          "name": "stderr",
          "text": [
            "/usr/local/lib/python3.10/dist-packages/keras/src/layers/core/embedding.py:90: UserWarning: Argument `input_length` is deprecated. Just remove it.\n",
            "  warnings.warn(\n"
          ]
        },
        {
          "output_type": "stream",
          "name": "stdout",
          "text": [
            "\u001b[1m46/46\u001b[0m \u001b[32m━━━━━━━━━━━━━━━━━━━━\u001b[0m\u001b[37m\u001b[0m \u001b[1m1s\u001b[0m 5ms/step\n"
          ]
        },
        {
          "output_type": "stream",
          "name": "stderr",
          "text": [
            "/usr/local/lib/python3.10/dist-packages/keras/src/layers/core/embedding.py:90: UserWarning: Argument `input_length` is deprecated. Just remove it.\n",
            "  warnings.warn(\n"
          ]
        },
        {
          "output_type": "stream",
          "name": "stdout",
          "text": [
            "\u001b[1m46/46\u001b[0m \u001b[32m━━━━━━━━━━━━━━━━━━━━\u001b[0m\u001b[37m\u001b[0m \u001b[1m1s\u001b[0m 6ms/step\n",
            "Cross-validation scores: [0.8472505211830139, 0.8335598111152649, 0.829483687877655, 0.84986412525177, 0.848505437374115]\n",
            "Mean cross-validation score: 0.8417327165603637\n",
            "\n",
            "Classification Report:\n",
            "              precision    recall  f1-score   support\n",
            "\n",
            "           0       0.82      0.89      0.85      3709\n",
            "           1       0.87      0.80      0.83      3652\n",
            "\n",
            "    accuracy                           0.84      7361\n",
            "   macro avg       0.84      0.84      0.84      7361\n",
            "weighted avg       0.84      0.84      0.84      7361\n",
            "\n"
          ]
        },
        {
          "output_type": "display_data",
          "data": {
            "text/plain": [
              "<Figure size 1000x600 with 2 Axes>"
            ],
            "image/png": "[encoded data removed]"
          },
          "metadata": {}
        },
        {
          "output_type": "stream",
          "name": "stderr",
          "text": [
            "/usr/local/lib/python3.10/dist-packages/keras/src/layers/core/embedding.py:90: UserWarning: Argument `input_length` is deprecated. Just remove it.\n",
            "  warnings.warn(\n"
          ]
        },
        {
          "output_type": "stream",
          "name": "stdout",
          "text": [
            "Epoch 1/10\n",
            "\u001b[1m231/231\u001b[0m \u001b[32m━━━━━━━━━━━━━━━━━━━━\u001b[0m\u001b[37m\u001b[0m \u001b[1m9s\u001b[0m 18ms/step - accuracy: 0.6531 - loss: 0.5990\n",
            "Epoch 2/10\n",
            "\u001b[1m231/231\u001b[0m \u001b[32m━━━━━━━━━━━━━━━━━━━━\u001b[0m\u001b[37m\u001b[0m \u001b[1m4s\u001b[0m 18ms/step - accuracy: 0.8434 - loss: 0.3659\n",
            "Epoch 3/10\n",
            "\u001b[1m231/231\u001b[0m \u001b[32m━━━━━━━━━━━━━━━━━━━━\u001b[0m\u001b[37m\u001b[0m \u001b[1m5s\u001b[0m 21ms/step - accuracy: 0.8625 - loss: 0.3158\n",
            "Epoch 4/10\n",
            "\u001b[1m231/231\u001b[0m \u001b[32m━━━━━━━━━━━━━━━━━━━━\u001b[0m\u001b[37m\u001b[0m \u001b[1m4s\u001b[0m 18ms/step - accuracy: 0.8859 - loss: 0.2689\n",
            "Epoch 5/10\n",
            "\u001b[1m231/231\u001b[0m \u001b[32m━━━━━━━━━━━━━━━━━━━━\u001b[0m\u001b[37m\u001b[0m \u001b[1m6s\u001b[0m 25ms/step - accuracy: 0.8958 - loss: 0.2378\n",
            "Epoch 6/10\n",
            "\u001b[1m231/231\u001b[0m \u001b[32m━━━━━━━━━━━━━━━━━━━━\u001b[0m\u001b[37m\u001b[0m \u001b[1m9s\u001b[0m 18ms/step - accuracy: 0.9096 - loss: 0.2160\n",
            "Epoch 7/10\n",
            "\u001b[1m231/231\u001b[0m \u001b[32m━━━━━━━━━━━━━━━━━━━━\u001b[0m\u001b[37m\u001b[0m \u001b[1m4s\u001b[0m 18ms/step - accuracy: 0.9262 - loss: 0.1762\n",
            "Epoch 8/10\n",
            "\u001b[1m231/231\u001b[0m \u001b[32m━━━━━━━━━━━━━━━━━━━━\u001b[0m\u001b[37m\u001b[0m \u001b[1m6s\u001b[0m 21ms/step - accuracy: 0.9329 - loss: 0.1730\n",
            "Epoch 9/10\n",
            "\u001b[1m231/231\u001b[0m \u001b[32m━━━━━━━━━━━━━━━━━━━━\u001b[0m\u001b[37m\u001b[0m \u001b[1m4s\u001b[0m 18ms/step - accuracy: 0.9382 - loss: 0.1448\n",
            "Epoch 10/10\n",
            "\u001b[1m231/231\u001b[0m \u001b[32m━━━━━━━━━━━━━━━━━━━━\u001b[0m\u001b[37m\u001b[0m \u001b[1m6s\u001b[0m 20ms/step - accuracy: 0.9546 - loss: 0.1135\n"
          ]
        },
        {
          "output_type": "stream",
          "name": "stderr",
          "text": [
            "WARNING:absl:You are saving your model as an HDF5 file via `model.save()` or `keras.saving.save_model(model)`. This file format is considered legacy. We recommend using instead the native Keras format, e.g. `model.save('my_model.keras')` or `keras.saving.save_model(model, 'my_model.keras')`. \n",
            "WARNING:absl:Compiled the loaded model, but the compiled metrics have yet to be built. `model.compile_metrics` will be empty until you train or evaluate the model.\n"
          ]
        }
      ],
      "source": [
        "import pandas as pd\n",
        "import numpy as np\n",
        "import re\n",
        "import matplotlib.pyplot as plt\n",
        "from nltk.corpus import stopwords\n",
        "from nltk.tokenize import word_tokenize\n",
        "from sklearn.preprocessing import LabelEncoder\n",
        "from sklearn.model_selection import KFold\n",
        "from sklearn.metrics import classification_report, confusion_matrix\n",
        "from tensorflow.keras.models import Sequential, load_model\n",
        "from tensorflow.keras.layers import Embedding, LSTM, Dense, Dropout\n",
        "from tensorflow.keras.preprocessing.sequence import pad_sequences\n",
        "from keras_self_attention import SeqSelfAttention\n",
        "import seaborn as sns\n",
        "\n",
        "# GloVe modelini yükleme fonksiyonu\n",
        "def load_glove_model(glove_file):\n",
        "    glove_model = {}\n",
        "    with open(glove_file, 'r', encoding='utf-8') as f:\n",
        "        for line in f:\n",
        "            values = line.split()\n",
        "            word = values[0]\n",
        "            vector = np.asarray(values[1:], dtype='float32')\n",
        "            glove_model[word] = vector\n",
        "    return glove_model\n",
        "\n",
        "# GloVe vektörlerini yükle\n",
        "glove_file = '/content/drive/My Drive/vectors.txt'\n",
        "glove_model = load_glove_model(glove_file)\n",
        "\n",
        "# Veri ön işleme fonksiyonu\n",
        "def process_msg(text):\n",
        "    text = re.sub(r'(@|https?)\\S+|#', '', text)\n",
        "    filters = '@!\"\\'#$%&()*+,-./:;<=>[\\\\]^_`{|}~\\t\\n'\n",
        "    translate_dict = dict((c, \" \") for c in filters)\n",
        "    translate_map = str.maketrans(translate_dict)\n",
        "    text = text.translate(translate_map)\n",
        "    text = text.lower().strip()\n",
        "    stop_words = set(stopwords.words('turkish'))\n",
        "    words = word_tokenize(text)\n",
        "    words_filtered = [word for word in words if word.isalpha() and word not in stop_words]\n",
        "    return ' '.join(words_filtered)\n",
        "\n",
        "# Veriyi yükleme ve ön işleme\n",
        "xt = pd.read_excel('/content/drive/My Drive/half29072024_teknofest.xlsx')\n",
        "xt = xt.dropna()\n",
        "xt['mesaj'] = xt['mesaj'].astype(str).apply(process_msg)\n",
        "\n",
        "# Etiketleri sayısal değerlere dönüştür\n",
        "y = xt['label']\n",
        "label_encoder = LabelEncoder()\n",
        "y_encoded = label_encoder.fit_transform(y)\n",
        "\n",
        "# Metinleri kelime listelerine çevirme\n",
        "X_processed = [text.split() for text in xt['mesaj']]\n",
        "\n",
        "# GloVe vektörlerini embedding matrise çevirme ve padding yapma\n",
        "max_len = 100  # Maksimum dizi uzunluğu\n",
        "embedding_dim = 300  # GloVe vektör boyutu\n",
        "embedding_matrix = np.zeros((len(glove_model) + 1, embedding_dim))\n",
        "word_index = {word: i + 1 for i, word in enumerate(glove_model.keys())}\n",
        "for word, i in word_index.items():\n",
        "    embedding_matrix[i] = glove_model[word]\n",
        "\n",
        "def get_glove_sequences(texts):\n",
        "    sequences = []\n",
        "    for text in texts:\n",
        "        sequence = [word_index.get(word, 0) for word in text]  # Eğer kelime GloVe'de yoksa 0 ekle\n",
        "        sequences.append(sequence)\n",
        "    return pad_sequences(sequences, maxlen=max_len)\n",
        "\n",
        "X_pad = get_glove_sequences(X_processed)\n",
        "\n",
        "# Modeli oluşturma fonksiyonu\n",
        "def create_model():\n",
        "    model = Sequential()\n",
        "    model.add(Embedding(input_dim=len(word_index) + 1, output_dim=embedding_dim,\n",
        "                        weights=[embedding_matrix], input_length=max_len, trainable=False))\n",
        "    model.add(LSTM(128, return_sequences=True))\n",
        "    model.add(SeqSelfAttention(attention_activation='sigmoid'))\n",
        "    model.add(Dropout(0.5))\n",
        "    model.add(LSTM(64, return_sequences=True))\n",
        "    model.add(Dropout(0.5))\n",
        "    model.add(LSTM(64))\n",
        "    model.add(Dropout(0.5))\n",
        "    model.add(Dense(len(np.unique(y_encoded)), activation='softmax'))\n",
        "    model.compile(loss='sparse_categorical_crossentropy', optimizer='adam', metrics=['accuracy'])\n",
        "    return model\n",
        "\n",
        "# K-Fold Cross-Validation\n",
        "kfold = KFold(n_splits=5, shuffle=True, random_state=42)\n",
        "cv_scores = []\n",
        "conf_matrix_sum = np.zeros((len(np.unique(y_encoded)), len(np.unique(y_encoded))), dtype=np.float32)\n",
        "all_y_pred = []\n",
        "all_y_test = []\n",
        "\n",
        "for train_index, test_index in kfold.split(X_pad):\n",
        "    model = create_model()\n",
        "    model.fit(X_pad[train_index], y_encoded[train_index], epochs=10, batch_size=32, verbose=0)\n",
        "    scores = model.evaluate(X_pad[test_index], y_encoded[test_index], verbose=0)\n",
        "    cv_scores.append(scores[1])\n",
        "\n",
        "    y_pred = model.predict(X_pad[test_index])\n",
        "    y_pred_classes = np.argmax(y_pred, axis=1)\n",
        "\n",
        "    # Confusion matrix hesaplama ve toplama\n",
        "    conf_matrix = confusion_matrix(y_encoded[test_index], y_pred_classes)\n",
        "    conf_matrix_sum += conf_matrix\n",
        "\n",
        "    all_y_pred.extend(y_pred_classes)\n",
        "    all_y_test.extend(y_encoded[test_index])\n",
        "\n",
        "# Confusion Matrix ortalaması\n",
        "conf_matrix_avg = np.round(conf_matrix_sum / kfold.get_n_splits()).astype(int)\n",
        "\n",
        "# Performans değerlendirme ve görselleştirme\n",
        "print(f\"Cross-validation scores: {cv_scores}\")\n",
        "print(f\"Mean cross-validation score: {np.mean(cv_scores)}\")\n",
        "\n",
        "# `target_names`'i string listesi olarak ayarlayın\n",
        "target_names = list(map(str, label_encoder.classes_))\n",
        "class_report = classification_report(all_y_test, all_y_pred, target_names=target_names)\n",
        "print(\"\\nClassification Report:\")\n",
        "print(class_report)\n",
        "\n",
        "plt.figure(figsize=(10, 6))\n",
        "sns.heatmap(conf_matrix_avg, annot=True, fmt='d', cmap='Blues', xticklabels=target_names, yticklabels=target_names)\n",
        "plt.title('LSTM+Glove Confusion Matrix (Average)')\n",
        "plt.xlabel('Predicted')\n",
        "plt.ylabel('Actual')\n",
        "plt.show()\n",
        "\n",
        "# Modeli eğit ve kaydetme\n",
        "model = create_model()\n",
        "model.fit(X_pad, y_encoded, epochs=10, batch_size=32, verbose=1)\n",
        "model.save('text_classification_model.h5')\n",
        "\n",
        "# Modeli yükleme ve sınıflandırma fonksiyonu\n",
        "model = load_model('text_classification_model.h5', custom_objects={'SeqSelfAttention': SeqSelfAttention})"
      ]
    },
    {
      "cell_type": "code",
      "source": [
        "# Modeli yükleme ve sınıflandırma fonksiyonu\n",
        "model = load_model('text_classification_model.h5', custom_objects={'SeqSelfAttention': SeqSelfAttention})\n",
        "\n",
        "# Tokenizer'ı tanımlama ve eğitme\n",
        "tokenizer = Tokenizer()\n",
        "tokenizer.fit_on_texts(xt['mesaj'])  # Burada X_processed yerine xt['mesaj'] kullanmalısınız\n",
        "\n",
        "# Kullanıcıdan metin girişi al\n",
        "def classify_message(message):\n",
        "    # Metin ön işleme\n",
        "    message = process_msg(message)\n",
        "\n",
        "    # Metni sayılara dönüştürme\n",
        "    message_seq = tokenizer.texts_to_sequences([message])\n",
        "\n",
        "    # Dizi uzunluğunu ayarlama\n",
        "    message_pad = pad_sequences(message_seq, maxlen=max_len)\n",
        "\n",
        "    # Modeli kullanarak sınıflandırma\n",
        "    prediction = model.predict(message_pad)\n",
        "    prediction_class = np.argmax(prediction, axis=1)\n",
        "\n",
        "    # Sınıflandırma sonucunu geri döndürme\n",
        "    return label_encoder.inverse_transform(prediction_class)[0]\n",
        "\n",
        "# Komut satırı aracı\n",
        "if __name__ == \"__main__\":\n",
        "    print(\"Metin sınıflandırma aracına hoş geldiniz. Çıkış yapmak için 'q' girin.\")\n",
        "    while True:\n",
        "        message = input(\"Sınıflandırmak istediğiniz metni girin: \")\n",
        "        if message.lower() == 'q':\n",
        "            print(\"Çıkış yapılıyor...\")\n",
        "            break\n",
        "        prediction = classify_message(message)\n",
        "        print(f\"Tahmin: {prediction}\")"
      ],
      "metadata": {
        "id": "tHtk7yn1EazJ",
        "colab": {
          "base_uri": "https://localhost:8080/"
        },
        "outputId": "269c8329-ae0f-46d6-d20e-bde1fb3ca1a8"
      },
      "execution_count": 7,
      "outputs": [
        {
          "output_type": "stream",
          "name": "stderr",
          "text": [
            "WARNING:absl:Compiled the loaded model, but the compiled metrics have yet to be built. `model.compile_metrics` will be empty until you train or evaluate the model.\n"
          ]
        },
        {
          "output_type": "stream",
          "name": "stdout",
          "text": [
            "Metin sınıflandırma aracına hoş geldiniz. Çıkış yapmak için 'q' girin.\n",
            "Sınıflandırmak istediğiniz metni girin: salak\n",
            "\u001b[1m1/1\u001b[0m \u001b[32m━━━━━━━━━━━━━━━━━━━━\u001b[0m\u001b[37m\u001b[0m \u001b[1m0s\u001b[0m 276ms/step\n",
            "Tahmin: 1\n",
            "Sınıflandırmak istediğiniz metni girin: güzel\n",
            "\u001b[1m1/1\u001b[0m \u001b[32m━━━━━━━━━━━━━━━━━━━━\u001b[0m\u001b[37m\u001b[0m \u001b[1m0s\u001b[0m 23ms/step\n",
            "Tahmin: 0\n",
            "Sınıflandırmak istediğiniz metni girin: manyak\n",
            "\u001b[1m1/1\u001b[0m \u001b[32m━━━━━━━━━━━━━━━━━━━━\u001b[0m\u001b[37m\u001b[0m \u001b[1m0s\u001b[0m 29ms/step\n",
            "Tahmin: 0\n",
            "Sınıflandırmak istediğiniz metni girin: q\n",
            "Çıkış yapılıyor...\n"
          ]
        }
      ]
    },
    {
      "cell_type": "code",
      "execution_count": 12,
      "metadata": {
        "colab": {
          "base_uri": "https://localhost:8080/",
          "height": 1000
        },
        "id": "w-t15U3QOJTj",
        "outputId": "cd0e5801-6b96-44f6-9c5f-59ad5de9bf6b"
      },
      "outputs": [
        {
          "output_type": "stream",
          "name": "stderr",
          "text": [
            "/usr/local/lib/python3.10/dist-packages/keras/src/layers/core/embedding.py:90: UserWarning: Argument `input_length` is deprecated. Just remove it.\n",
            "  warnings.warn(\n"
          ]
        },
        {
          "output_type": "stream",
          "name": "stdout",
          "text": [
            "\u001b[1m47/47\u001b[0m \u001b[32m━━━━━━━━━━━━━━━━━━━━\u001b[0m\u001b[37m\u001b[0m \u001b[1m1s\u001b[0m 13ms/step\n"
          ]
        },
        {
          "output_type": "stream",
          "name": "stderr",
          "text": [
            "/usr/local/lib/python3.10/dist-packages/keras/src/layers/core/embedding.py:90: UserWarning: Argument `input_length` is deprecated. Just remove it.\n",
            "  warnings.warn(\n"
          ]
        },
        {
          "output_type": "stream",
          "name": "stdout",
          "text": [
            "\u001b[1m46/46\u001b[0m \u001b[32m━━━━━━━━━━━━━━━━━━━━\u001b[0m\u001b[37m\u001b[0m \u001b[1m1s\u001b[0m 2ms/step\n"
          ]
        },
        {
          "output_type": "stream",
          "name": "stderr",
          "text": [
            "/usr/local/lib/python3.10/dist-packages/keras/src/layers/core/embedding.py:90: UserWarning: Argument `input_length` is deprecated. Just remove it.\n",
            "  warnings.warn(\n"
          ]
        },
        {
          "output_type": "stream",
          "name": "stdout",
          "text": [
            "\u001b[1m46/46\u001b[0m \u001b[32m━━━━━━━━━━━━━━━━━━━━\u001b[0m\u001b[37m\u001b[0m \u001b[1m0s\u001b[0m 1ms/step\n"
          ]
        },
        {
          "output_type": "stream",
          "name": "stderr",
          "text": [
            "/usr/local/lib/python3.10/dist-packages/keras/src/layers/core/embedding.py:90: UserWarning: Argument `input_length` is deprecated. Just remove it.\n",
            "  warnings.warn(\n"
          ]
        },
        {
          "output_type": "stream",
          "name": "stdout",
          "text": [
            "\u001b[1m46/46\u001b[0m \u001b[32m━━━━━━━━━━━━━━━━━━━━\u001b[0m\u001b[37m\u001b[0m \u001b[1m0s\u001b[0m 1ms/step\n"
          ]
        },
        {
          "output_type": "stream",
          "name": "stderr",
          "text": [
            "/usr/local/lib/python3.10/dist-packages/keras/src/layers/core/embedding.py:90: UserWarning: Argument `input_length` is deprecated. Just remove it.\n",
            "  warnings.warn(\n"
          ]
        },
        {
          "output_type": "stream",
          "name": "stdout",
          "text": [
            "\u001b[1m46/46\u001b[0m \u001b[32m━━━━━━━━━━━━━━━━━━━━\u001b[0m\u001b[37m\u001b[0m \u001b[1m0s\u001b[0m 1ms/step\n",
            "Cross-validation scores: [0.8167006373405457, 0.829483687877655, 0.82472825050354, 0.82472825050354, 0.826766312122345]\n",
            "Mean cross-validation score: 0.8244814276695251\n",
            "\n",
            "Classification Report:\n",
            "              precision    recall  f1-score   support\n",
            "\n",
            "           0       0.82      0.83      0.83      3709\n",
            "           1       0.83      0.82      0.82      3652\n",
            "\n",
            "    accuracy                           0.82      7361\n",
            "   macro avg       0.82      0.82      0.82      7361\n",
            "weighted avg       0.82      0.82      0.82      7361\n",
            "\n"
          ]
        },
        {
          "output_type": "display_data",
          "data": {
            "text/plain": [
              "<Figure size 1000x600 with 2 Axes>"
            ],
            "image/png": "[encoded data removed]"
          },
          "metadata": {}
        },
        {
          "output_type": "stream",
          "name": "stderr",
          "text": [
            "/usr/local/lib/python3.10/dist-packages/keras/src/layers/core/embedding.py:90: UserWarning: Argument `input_length` is deprecated. Just remove it.\n",
            "  warnings.warn(\n"
          ]
        },
        {
          "output_type": "stream",
          "name": "stdout",
          "text": [
            "Epoch 1/10\n",
            "\u001b[1m231/231\u001b[0m \u001b[32m━━━━━━━━━━━━━━━━━━━━\u001b[0m\u001b[37m\u001b[0m \u001b[1m7s\u001b[0m 13ms/step - accuracy: 0.6527 - loss: 0.6256\n",
            "Epoch 2/10\n",
            "\u001b[1m231/231\u001b[0m \u001b[32m━━━━━━━━━━━━━━━━━━━━\u001b[0m\u001b[37m\u001b[0m \u001b[1m1s\u001b[0m 3ms/step - accuracy: 0.8337 - loss: 0.3798\n",
            "Epoch 3/10\n",
            "\u001b[1m231/231\u001b[0m \u001b[32m━━━━━━━━━━━━━━━━━━━━\u001b[0m\u001b[37m\u001b[0m \u001b[1m1s\u001b[0m 3ms/step - accuracy: 0.8746 - loss: 0.2940\n",
            "Epoch 4/10\n",
            "\u001b[1m231/231\u001b[0m \u001b[32m━━━━━━━━━━━━━━━━━━━━\u001b[0m\u001b[37m\u001b[0m \u001b[1m1s\u001b[0m 3ms/step - accuracy: 0.9053 - loss: 0.2323\n",
            "Epoch 5/10\n",
            "\u001b[1m231/231\u001b[0m \u001b[32m━━━━━━━━━━━━━━━━━━━━\u001b[0m\u001b[37m\u001b[0m \u001b[1m1s\u001b[0m 3ms/step - accuracy: 0.9251 - loss: 0.1897\n",
            "Epoch 6/10\n",
            "\u001b[1m231/231\u001b[0m \u001b[32m━━━━━━━━━━━━━━━━━━━━\u001b[0m\u001b[37m\u001b[0m \u001b[1m1s\u001b[0m 3ms/step - accuracy: 0.9354 - loss: 0.1595\n",
            "Epoch 7/10\n",
            "\u001b[1m231/231\u001b[0m \u001b[32m━━━━━━━━━━━━━━━━━━━━\u001b[0m\u001b[37m\u001b[0m \u001b[1m1s\u001b[0m 3ms/step - accuracy: 0.9523 - loss: 0.1306\n",
            "Epoch 8/10\n",
            "\u001b[1m231/231\u001b[0m \u001b[32m━━━━━━━━━━━━━━━━━━━━\u001b[0m\u001b[37m\u001b[0m \u001b[1m1s\u001b[0m 3ms/step - accuracy: 0.9551 - loss: 0.1285\n",
            "Epoch 9/10\n",
            "\u001b[1m231/231\u001b[0m \u001b[32m━━━━━━━━━━━━━━━━━━━━\u001b[0m\u001b[37m\u001b[0m \u001b[1m1s\u001b[0m 3ms/step - accuracy: 0.9635 - loss: 0.0953\n",
            "Epoch 10/10\n",
            "\u001b[1m231/231\u001b[0m \u001b[32m━━━━━━━━━━━━━━━━━━━━\u001b[0m\u001b[37m\u001b[0m \u001b[1m1s\u001b[0m 3ms/step - accuracy: 0.9674 - loss: 0.0878\n"
          ]
        },
        {
          "output_type": "stream",
          "name": "stderr",
          "text": [
            "WARNING:absl:You are saving your model as an HDF5 file via `model.save()` or `keras.saving.save_model(model)`. This file format is considered legacy. We recommend using instead the native Keras format, e.g. `model.save('my_model.keras')` or `keras.saving.save_model(model, 'my_model.keras')`. \n"
          ]
        }
      ],
      "source": [
        "import pandas as pd\n",
        "import numpy as np\n",
        "import re\n",
        "import matplotlib.pyplot as plt\n",
        "from nltk.corpus import stopwords\n",
        "from nltk.tokenize import word_tokenize\n",
        "from sklearn.preprocessing import LabelEncoder\n",
        "from sklearn.model_selection import KFold\n",
        "from sklearn.metrics import classification_report, confusion_matrix\n",
        "from tensorflow.keras.models import Sequential, load_model\n",
        "from tensorflow.keras.layers import Embedding, Conv1D, MaxPooling1D, GlobalMaxPooling1D, Dense, Dropout\n",
        "from tensorflow.keras.preprocessing.sequence import pad_sequences\n",
        "from keras_self_attention import SeqSelfAttention\n",
        "import seaborn as sns\n",
        "\n",
        "# GloVe modelini yükleme fonksiyonu\n",
        "def load_glove_model(glove_file):\n",
        "    glove_model = {}\n",
        "    with open(glove_file, 'r', encoding='utf-8') as f:\n",
        "        for line in f:\n",
        "            values = line.split()\n",
        "            word = values[0]\n",
        "            vector = np.asarray(values[1:], dtype='float32')\n",
        "            glove_model[word] = vector\n",
        "    return glove_model\n",
        "\n",
        "# GloVe vektörlerini yükle\n",
        "glove_file = '/content/drive/My Drive/vectors.txt'\n",
        "glove_model = load_glove_model(glove_file)\n",
        "\n",
        "# Veri ön işleme fonksiyonu\n",
        "def process_msg(text):\n",
        "    text = re.sub(r'(@|https?)\\S+|#', '', text)\n",
        "    filters = '@!\"\\'#$%&()*+,-./:;<=>[\\\\]^_`{|}~\\t\\n'\n",
        "    translate_dict = dict((c, \" \") for c in filters)\n",
        "    translate_map = str.maketrans(translate_dict)\n",
        "    text = text.translate(translate_map)\n",
        "    text = text.lower().strip()\n",
        "    stop_words = set(stopwords.words('turkish'))\n",
        "    words = word_tokenize(text)\n",
        "    words_filtered = [word for word in words if word.isalpha() and word not in stop_words]\n",
        "    return ' '.join(words_filtered)\n",
        "\n",
        "# Veriyi yükleme ve ön işleme\n",
        "xt = pd.read_excel('/content/drive/My Drive/half29072024_teknofest.xlsx')\n",
        "xt = xt.dropna()\n",
        "xt['mesaj'] = xt['mesaj'].astype(str).apply(process_msg)\n",
        "\n",
        "# Etiketleri sayısal değerlere dönüştür\n",
        "y = xt['label']\n",
        "label_encoder = LabelEncoder()\n",
        "y_encoded = label_encoder.fit_transform(y)\n",
        "\n",
        "# Metinleri kelime listelerine çevirme\n",
        "X_processed = [text.split() for text in xt['mesaj']]\n",
        "\n",
        "# Metinleri sayılara dönüştürme ve padding yapma\n",
        "max_len = 100  # Maksimum dizi uzunluğu\n",
        "embedding_dim = 300  # GloVe vektör boyutu\n",
        "embedding_matrix = np.zeros((len(glove_model) + 1, embedding_dim))\n",
        "word_index = {word: i + 1 for i, word in enumerate(glove_model.keys())}\n",
        "for word, i in word_index.items():\n",
        "    embedding_matrix[i] = glove_model[word]\n",
        "\n",
        "def get_glove_sequences(texts):\n",
        "    sequences = []\n",
        "    for text in texts:\n",
        "        sequence = [word_index[word] for word in text if word in word_index]\n",
        "        sequences.append(sequence)\n",
        "    return pad_sequences(sequences, maxlen=max_len)\n",
        "\n",
        "X_pad = get_glove_sequences(X_processed)\n",
        "\n",
        "# Modeli oluşturma fonksiyonu\n",
        "def create_model():\n",
        "    model = Sequential()\n",
        "    model.add(Embedding(input_dim=len(word_index) + 1, output_dim=embedding_dim,\n",
        "                        weights=[embedding_matrix], input_length=max_len, trainable=False))\n",
        "    model.add(Conv1D(filters=64, kernel_size=5, activation='relu'))  # Konvolüsyon katmanı\n",
        "    model.add(MaxPooling1D(pool_size=2))  # Max pooling katmanı\n",
        "    model.add(Conv1D(filters=64, kernel_size=5, activation='relu'))  # İkinci konvolüsyon katmanı\n",
        "    model.add(MaxPooling1D(pool_size=2))  # İkinci max pooling katmanı\n",
        "    model.add(SeqSelfAttention(attention_activation='sigmoid'))  # Attention katmanı\n",
        "    model.add(GlobalMaxPooling1D())  # Global max pooling katmanı\n",
        "    model.add(Dropout(0.5))  # Dropout katmanı\n",
        "    model.add(Dense(len(np.unique(y_encoded)), activation='softmax'))  # Çıkış katmanı\n",
        "    model.compile(loss='sparse_categorical_crossentropy', optimizer='adam', metrics=['accuracy'])\n",
        "    return model\n",
        "\n",
        "# K-Fold Cross-Validation\n",
        "kfold = KFold(n_splits=5, shuffle=True, random_state=42)\n",
        "cv_scores = []\n",
        "conf_matrix_sum = np.zeros((len(np.unique(y_encoded)), len(np.unique(y_encoded))), dtype=np.float32)\n",
        "all_y_pred = []\n",
        "all_y_test = []\n",
        "\n",
        "for train_index, test_index in kfold.split(X_pad):\n",
        "    model = create_model()\n",
        "    model.fit(X_pad[train_index], y_encoded[train_index], epochs=10, batch_size=32, verbose=0)\n",
        "    scores = model.evaluate(X_pad[test_index], y_encoded[test_index], verbose=0)\n",
        "    cv_scores.append(scores[1])\n",
        "\n",
        "    y_pred = model.predict(X_pad[test_index])\n",
        "    y_pred_classes = np.argmax(y_pred, axis=1)\n",
        "    all_y_pred.extend(y_pred_classes)\n",
        "    all_y_test.extend(y_encoded[test_index])\n",
        "\n",
        "    # Confusion matrix hesaplama ve toplama\n",
        "    conf_matrix = confusion_matrix(y_encoded[test_index], y_pred_classes)\n",
        "    conf_matrix_sum += conf_matrix\n",
        "\n",
        "# Confusion Matrix ortalaması\n",
        "conf_matrix_avg = np.round(conf_matrix_sum / kfold.get_n_splits()).astype(int)\n",
        "\n",
        "# Performans değerlendirme ve görselleştirme\n",
        "print(f\"Cross-validation scores: {cv_scores}\")\n",
        "print(f\"Mean cross-validation score: {np.mean(cv_scores)}\")\n",
        "\n",
        "# `target_names`'i string listesi olarak ayarlayın\n",
        "target_names = list(map(str, label_encoder.classes_))\n",
        "class_report = classification_report(all_y_test, all_y_pred, target_names=target_names)\n",
        "print(\"\\nClassification Report:\")\n",
        "print(class_report)\n",
        "\n",
        "# Confusion Matrix'i grafiksel olarak gösterme\n",
        "plt.figure(figsize=(10, 6))\n",
        "sns.heatmap(conf_matrix_avg, annot=True, fmt='d', cmap='Blues', xticklabels=target_names, yticklabels=target_names)\n",
        "plt.title('CNN+Glove Confusion Matrix (Average)')\n",
        "plt.xlabel('Predicted')\n",
        "plt.ylabel('Actual')\n",
        "plt.show()\n",
        "\n",
        "# Modeli eğit ve kaydet\n",
        "model = create_model()\n",
        "model.fit(X_pad, y_encoded, epochs=10, batch_size=32, verbose=1)\n",
        "model.save('text_classification_model.h5')"
      ]
    },
    {
      "cell_type": "code",
      "execution_count": 13,
      "metadata": {
        "colab": {
          "base_uri": "https://localhost:8080/"
        },
        "id": "O3qNS5gAS5fn",
        "outputId": "5e135b9e-2b38-482a-cba8-210a0df3cabc"
      },
      "outputs": [
        {
          "output_type": "stream",
          "name": "stderr",
          "text": [
            "WARNING:absl:Compiled the loaded model, but the compiled metrics have yet to be built. `model.compile_metrics` will be empty until you train or evaluate the model.\n"
          ]
        },
        {
          "output_type": "stream",
          "name": "stdout",
          "text": [
            "Metin sınıflandırma aracına hoş geldiniz. Çıkış yapmak için 'q' girin.\n",
            "Sınıflandırmak istediğiniz metni girin: deli\n",
            "\u001b[1m1/1\u001b[0m \u001b[32m━━━━━━━━━━━━━━━━━━━━\u001b[0m\u001b[37m\u001b[0m \u001b[1m1s\u001b[0m 1s/step\n",
            "Tahmin: 0\n",
            "Sınıflandırmak istediğiniz metni girin: manyak\n",
            "\u001b[1m1/1\u001b[0m \u001b[32m━━━━━━━━━━━━━━━━━━━━\u001b[0m\u001b[37m\u001b[0m \u001b[1m0s\u001b[0m 18ms/step\n",
            "Tahmin: 0\n",
            "Sınıflandırmak istediğiniz metni girin: q\n",
            "Çıkış yapılıyor...\n"
          ]
        }
      ],
      "source": [
        "# Modeli yükleme ve sınıflandırma fonksiyonu\n",
        "model = load_model('text_classification_model.h5', custom_objects={'SeqSelfAttention': SeqSelfAttention})\n",
        "\n",
        "# Tokenizer'ı tanımlama ve eğitme\n",
        "tokenizer = Tokenizer()\n",
        "tokenizer.fit_on_texts(xt['mesaj'])  # Burada X_processed yerine xt['mesaj'] kullanmalısınız\n",
        "\n",
        "# Kullanıcıdan metin girişi al\n",
        "def classify_message(message):\n",
        "    # Metin ön işleme\n",
        "    message = process_msg(message)\n",
        "\n",
        "    # Metni sayılara dönüştürme\n",
        "    message_seq = tokenizer.texts_to_sequences([message])\n",
        "\n",
        "    # Dizi uzunluğunu ayarlama\n",
        "    message_pad = pad_sequences(message_seq, maxlen=max_len)\n",
        "\n",
        "    # Modeli kullanarak sınıflandırma\n",
        "    prediction = model.predict(message_pad)\n",
        "    prediction_class = np.argmax(prediction, axis=1)\n",
        "\n",
        "    # Sınıflandırma sonucunu geri döndürme\n",
        "    return label_encoder.inverse_transform(prediction_class)[0]\n",
        "\n",
        "# Komut satırı aracı\n",
        "if __name__ == \"__main__\":\n",
        "    print(\"Metin sınıflandırma aracına hoş geldiniz. Çıkış yapmak için 'q' girin.\")\n",
        "    while True:\n",
        "        message = input(\"Sınıflandırmak istediğiniz metni girin: \")\n",
        "        if message.lower() == 'q':\n",
        "            print(\"Çıkış yapılıyor...\")\n",
        "            break\n",
        "        prediction = classify_message(message)\n",
        "        print(f\"Tahmin: {prediction}\")"
      ]
    },
    {
      "cell_type": "code",
      "execution_count": 15,
      "metadata": {
        "colab": {
          "base_uri": "https://localhost:8080/",
          "height": 1000
        },
        "id": "hNuWhHAASXkk",
        "outputId": "dabc4381-11d6-4f26-c71d-c333c89b3de6"
      },
      "outputs": [
        {
          "output_type": "stream",
          "name": "stderr",
          "text": [
            "/usr/local/lib/python3.10/dist-packages/keras/src/layers/core/embedding.py:90: UserWarning: Argument `input_length` is deprecated. Just remove it.\n",
            "  warnings.warn(\n"
          ]
        },
        {
          "output_type": "stream",
          "name": "stdout",
          "text": [
            "\u001b[1m47/47\u001b[0m \u001b[32m━━━━━━━━━━━━━━━━━━━━\u001b[0m\u001b[37m\u001b[0m \u001b[1m1s\u001b[0m 12ms/step\n"
          ]
        },
        {
          "output_type": "stream",
          "name": "stderr",
          "text": [
            "/usr/local/lib/python3.10/dist-packages/keras/src/layers/core/embedding.py:90: UserWarning: Argument `input_length` is deprecated. Just remove it.\n",
            "  warnings.warn(\n"
          ]
        },
        {
          "output_type": "stream",
          "name": "stdout",
          "text": [
            "\u001b[1m46/46\u001b[0m \u001b[32m━━━━━━━━━━━━━━━━━━━━\u001b[0m\u001b[37m\u001b[0m \u001b[1m1s\u001b[0m 6ms/step\n"
          ]
        },
        {
          "output_type": "stream",
          "name": "stderr",
          "text": [
            "/usr/local/lib/python3.10/dist-packages/keras/src/layers/core/embedding.py:90: UserWarning: Argument `input_length` is deprecated. Just remove it.\n",
            "  warnings.warn(\n"
          ]
        },
        {
          "output_type": "stream",
          "name": "stdout",
          "text": [
            "\u001b[1m46/46\u001b[0m \u001b[32m━━━━━━━━━━━━━━━━━━━━\u001b[0m\u001b[37m\u001b[0m \u001b[1m1s\u001b[0m 6ms/step\n"
          ]
        },
        {
          "output_type": "stream",
          "name": "stderr",
          "text": [
            "/usr/local/lib/python3.10/dist-packages/keras/src/layers/core/embedding.py:90: UserWarning: Argument `input_length` is deprecated. Just remove it.\n",
            "  warnings.warn(\n"
          ]
        },
        {
          "output_type": "stream",
          "name": "stdout",
          "text": [
            "\u001b[1m46/46\u001b[0m \u001b[32m━━━━━━━━━━━━━━━━━━━━\u001b[0m\u001b[37m\u001b[0m \u001b[1m1s\u001b[0m 6ms/step\n"
          ]
        },
        {
          "output_type": "stream",
          "name": "stderr",
          "text": [
            "/usr/local/lib/python3.10/dist-packages/keras/src/layers/core/embedding.py:90: UserWarning: Argument `input_length` is deprecated. Just remove it.\n",
            "  warnings.warn(\n"
          ]
        },
        {
          "output_type": "stream",
          "name": "stdout",
          "text": [
            "\u001b[1m46/46\u001b[0m \u001b[32m━━━━━━━━━━━━━━━━━━━━\u001b[0m\u001b[37m\u001b[0m \u001b[1m1s\u001b[0m 6ms/step\n",
            "Cross-validation scores: [0.8540393710136414, 0.8349184989929199, 0.8308423757553101, 0.842391312122345, 0.8478260636329651]\n",
            "Mean cross-validation score: 0.8420035243034363\n",
            "\n",
            "Classification Report:\n",
            "              precision    recall  f1-score   support\n",
            "\n",
            "           0       0.82      0.88      0.85      3709\n",
            "           1       0.87      0.81      0.84      3652\n",
            "\n",
            "    accuracy                           0.84      7361\n",
            "   macro avg       0.84      0.84      0.84      7361\n",
            "weighted avg       0.84      0.84      0.84      7361\n",
            "\n"
          ]
        },
        {
          "output_type": "display_data",
          "data": {
            "text/plain": [
              "<Figure size 1000x600 with 2 Axes>"
            ],
            "image/png": "[encoded data removed]"
          },
          "metadata": {}
        },
        {
          "output_type": "stream",
          "name": "stderr",
          "text": [
            "/usr/local/lib/python3.10/dist-packages/keras/src/layers/core/embedding.py:90: UserWarning: Argument `input_length` is deprecated. Just remove it.\n",
            "  warnings.warn(\n"
          ]
        },
        {
          "output_type": "stream",
          "name": "stdout",
          "text": [
            "Epoch 1/10\n",
            "\u001b[1m231/231\u001b[0m \u001b[32m━━━━━━━━━━━━━━━━━━━━\u001b[0m\u001b[37m\u001b[0m \u001b[1m8s\u001b[0m 20ms/step - accuracy: 0.6908 - loss: 0.5808\n",
            "Epoch 2/10\n",
            "\u001b[1m231/231\u001b[0m \u001b[32m━━━━━━━━━━━━━━━━━━━━\u001b[0m\u001b[37m\u001b[0m \u001b[1m5s\u001b[0m 23ms/step - accuracy: 0.8355 - loss: 0.3594\n",
            "Epoch 3/10\n",
            "\u001b[1m231/231\u001b[0m \u001b[32m━━━━━━━━━━━━━━━━━━━━\u001b[0m\u001b[37m\u001b[0m \u001b[1m10s\u001b[0m 20ms/step - accuracy: 0.8722 - loss: 0.2957\n",
            "Epoch 4/10\n",
            "\u001b[1m231/231\u001b[0m \u001b[32m━━━━━━━━━━━━━━━━━━━━\u001b[0m\u001b[37m\u001b[0m \u001b[1m5s\u001b[0m 21ms/step - accuracy: 0.8834 - loss: 0.2616\n",
            "Epoch 5/10\n",
            "\u001b[1m231/231\u001b[0m \u001b[32m━━━━━━━━━━━━━━━━━━━━\u001b[0m\u001b[37m\u001b[0m \u001b[1m5s\u001b[0m 19ms/step - accuracy: 0.8955 - loss: 0.2272\n",
            "Epoch 6/10\n",
            "\u001b[1m231/231\u001b[0m \u001b[32m━━━━━━━━━━━━━━━━━━━━\u001b[0m\u001b[37m\u001b[0m \u001b[1m5s\u001b[0m 21ms/step - accuracy: 0.9136 - loss: 0.1847\n",
            "Epoch 7/10\n",
            "\u001b[1m231/231\u001b[0m \u001b[32m━━━━━━━━━━━━━━━━━━━━\u001b[0m\u001b[37m\u001b[0m \u001b[1m6s\u001b[0m 25ms/step - accuracy: 0.9347 - loss: 0.1566\n",
            "Epoch 8/10\n",
            "\u001b[1m231/231\u001b[0m \u001b[32m━━━━━━━━━━━━━━━━━━━━\u001b[0m\u001b[37m\u001b[0m \u001b[1m9s\u001b[0m 21ms/step - accuracy: 0.9467 - loss: 0.1317\n",
            "Epoch 9/10\n",
            "\u001b[1m231/231\u001b[0m \u001b[32m━━━━━━━━━━━━━━━━━━━━\u001b[0m\u001b[37m\u001b[0m \u001b[1m5s\u001b[0m 20ms/step - accuracy: 0.9399 - loss: 0.1360\n",
            "Epoch 10/10\n",
            "\u001b[1m231/231\u001b[0m \u001b[32m━━━━━━━━━━━━━━━━━━━━\u001b[0m\u001b[37m\u001b[0m \u001b[1m5s\u001b[0m 19ms/step - accuracy: 0.9541 - loss: 0.1043\n"
          ]
        },
        {
          "output_type": "stream",
          "name": "stderr",
          "text": [
            "WARNING:absl:You are saving your model as an HDF5 file via `model.save()` or `keras.saving.save_model(model)`. This file format is considered legacy. We recommend using instead the native Keras format, e.g. `model.save('my_model.keras')` or `keras.saving.save_model(model, 'my_model.keras')`. \n",
            "WARNING:absl:Compiled the loaded model, but the compiled metrics have yet to be built. `model.compile_metrics` will be empty until you train or evaluate the model.\n"
          ]
        }
      ],
      "source": [
        "import pandas as pd\n",
        "import numpy as np\n",
        "import re\n",
        "import matplotlib.pyplot as plt\n",
        "from nltk.corpus import stopwords\n",
        "from nltk.tokenize import word_tokenize\n",
        "from sklearn.preprocessing import LabelEncoder\n",
        "from sklearn.model_selection import KFold\n",
        "from sklearn.metrics import classification_report, confusion_matrix\n",
        "from tensorflow.keras.models import Sequential, load_model\n",
        "from tensorflow.keras.layers import Embedding, GRU, Bidirectional, Dense, Dropout\n",
        "from tensorflow.keras.preprocessing.sequence import pad_sequences\n",
        "from keras_self_attention import SeqSelfAttention\n",
        "import seaborn as sns\n",
        "\n",
        "# GloVe modelini yükleme fonksiyonu\n",
        "def load_glove_model(glove_file):\n",
        "    glove_model = {}\n",
        "    with open(glove_file, 'r', encoding='utf-8') as f:\n",
        "        for line in f:\n",
        "            values = line.split()\n",
        "            word = values[0]\n",
        "            vector = np.asarray(values[1:], dtype='float32')\n",
        "            glove_model[word] = vector\n",
        "    return glove_model\n",
        "\n",
        "# GloVe vektörlerini yükle\n",
        "glove_file = '/content/drive/My Drive/vectors.txt'\n",
        "glove_model = load_glove_model(glove_file)\n",
        "\n",
        "# Veri ön işleme fonksiyonu\n",
        "def process_msg(text):\n",
        "    text = re.sub(r'(@|https?)\\S+|#', '', text)\n",
        "    filters = '@!\"\\'#$%&()*+,-./:;<=>[\\\\]^_`{|}~\\t\\n'\n",
        "    translate_dict = dict((c, \" \") for c in filters)\n",
        "    translate_map = str.maketrans(translate_dict)\n",
        "    text = text.translate(translate_map)\n",
        "    text = text.lower().strip()\n",
        "    stop_words = set(stopwords.words('turkish'))\n",
        "    words = word_tokenize(text)\n",
        "    words_filtered = [word for word in words if word.isalpha() and word not in stop_words]\n",
        "    return ' '.join(words_filtered)\n",
        "\n",
        "# Veriyi yükleme ve ön işleme\n",
        "xt = pd.read_excel('/content/drive/My Drive/half29072024_teknofest.xlsx')\n",
        "xt = xt.dropna()\n",
        "xt['mesaj'] = xt['mesaj'].astype(str).apply(process_msg)\n",
        "\n",
        "# Etiketleri sayısal değerlere dönüştür\n",
        "y = xt['label']\n",
        "label_encoder = LabelEncoder()\n",
        "y_encoded = label_encoder.fit_transform(y)\n",
        "\n",
        "# Metinleri kelime listelerine çevirme\n",
        "X_processed = [text.split() for text in xt['mesaj']]\n",
        "\n",
        "# GloVe vektörlerini embedding matrise çevirme ve padding yapma\n",
        "max_len = 100  # Maksimum dizi uzunluğu\n",
        "embedding_dim = 300  # GloVe vektör boyutu\n",
        "embedding_matrix = np.zeros((len(glove_model) + 1, embedding_dim))\n",
        "word_index = {word: i + 1 for i, word in enumerate(glove_model.keys())}\n",
        "for word, i in word_index.items():\n",
        "    embedding_matrix[i] = glove_model[word]\n",
        "\n",
        "def get_glove_sequences(texts):\n",
        "    sequences = []\n",
        "    for text in texts:\n",
        "        sequence = [word_index.get(word, 0) for word in text]  # Eğer kelime GloVe'de yoksa 0 ekle\n",
        "        sequences.append(sequence)\n",
        "    return pad_sequences(sequences, maxlen=max_len)\n",
        "\n",
        "X_pad = get_glove_sequences(X_processed)\n",
        "\n",
        "# Modeli oluşturma fonksiyonu\n",
        "def create_model():\n",
        "    model = Sequential()\n",
        "    model.add(Embedding(input_dim=len(word_index) + 1, output_dim=embedding_dim,\n",
        "                        weights=[embedding_matrix], input_length=max_len, trainable=False))\n",
        "    model.add(Bidirectional(GRU(128, return_sequences=True)))\n",
        "    model.add(SeqSelfAttention(attention_activation='sigmoid'))\n",
        "    model.add(Dropout(0.5))\n",
        "    model.add(GRU(64))\n",
        "    model.add(Dropout(0.5))\n",
        "    model.add(Dense(len(np.unique(y_encoded)), activation='softmax'))\n",
        "    model.compile(loss='sparse_categorical_crossentropy', optimizer='adam', metrics=['accuracy'])\n",
        "    return model\n",
        "\n",
        "# K-Fold Cross-Validation\n",
        "kfold = KFold(n_splits=5, shuffle=True, random_state=42)\n",
        "cv_scores = []\n",
        "conf_matrix_sum = np.zeros((len(np.unique(y_encoded)), len(np.unique(y_encoded))), dtype=np.float32)\n",
        "all_y_pred = []\n",
        "all_y_test = []\n",
        "\n",
        "for train_index, test_index in kfold.split(X_pad):\n",
        "    model = create_model()\n",
        "    model.fit(X_pad[train_index], y_encoded[train_index], epochs=10, batch_size=32, verbose=0)\n",
        "    scores = model.evaluate(X_pad[test_index], y_encoded[test_index], verbose=0)\n",
        "    cv_scores.append(scores[1])\n",
        "\n",
        "    y_pred = model.predict(X_pad[test_index])\n",
        "    y_pred_classes = np.argmax(y_pred, axis=1)\n",
        "\n",
        "    # Confusion matrix hesaplama ve toplama\n",
        "    conf_matrix = confusion_matrix(y_encoded[test_index], y_pred_classes)\n",
        "    conf_matrix_sum += conf_matrix\n",
        "\n",
        "    all_y_pred.extend(y_pred_classes)\n",
        "    all_y_test.extend(y_encoded[test_index])\n",
        "\n",
        "# Confusion Matrix ortalaması\n",
        "conf_matrix_avg = np.round(conf_matrix_sum / kfold.get_n_splits()).astype(int)\n",
        "\n",
        "# Performans değerlendirme ve görselleştirme\n",
        "print(f\"Cross-validation scores: {cv_scores}\")\n",
        "print(f\"Mean cross-validation score: {np.mean(cv_scores)}\")\n",
        "\n",
        "# `target_names`'i string listesi olarak ayarlayın\n",
        "target_names = list(map(str, label_encoder.classes_))\n",
        "class_report = classification_report(all_y_test, all_y_pred, target_names=target_names)\n",
        "print(\"\\nClassification Report:\")\n",
        "print(class_report)\n",
        "\n",
        "plt.figure(figsize=(10, 6))\n",
        "sns.heatmap(conf_matrix_avg, annot=True, fmt='d', cmap='Blues', xticklabels=target_names, yticklabels=target_names)\n",
        "plt.title('GRU+Glove Confusion Matrix (Average)')\n",
        "plt.xlabel('Predicted')\n",
        "plt.ylabel('Actual')\n",
        "plt.show()\n",
        "\n",
        "# Modeli eğit ve kaydetme\n",
        "model = create_model()\n",
        "model.fit(X_pad, y_encoded, epochs=10, batch_size=32, verbose=1)\n",
        "model.save('text_classification_model.h5')\n",
        "\n",
        "# Modeli yükleme ve sınıflandırma fonksiyonu\n",
        "model = load_model('text_classification_model.h5', custom_objects={'SeqSelfAttention': SeqSelfAttention})\n",
        "\n"
      ]
    },
    {
      "cell_type": "code",
      "execution_count": 18,
      "metadata": {
        "colab": {
          "base_uri": "https://localhost:8080/"
        },
        "id": "jJLAHWBBSpIO",
        "outputId": "887a7383-ac73-4f5e-f353-bedc956eccdc"
      },
      "outputs": [
        {
          "output_type": "stream",
          "name": "stdout",
          "text": [
            "Sınıflandırmak istediğiniz metni girin (çıkış için 'q' girin): deli\n",
            "\u001b[1m1/1\u001b[0m \u001b[32m━━━━━━━━━━━━━━━━━━━━\u001b[0m\u001b[37m\u001b[0m \u001b[1m0s\u001b[0m 21ms/step\n",
            "Tahmin: 1\n",
            "Başka bir sorunuz var mı? (evet/hayır): evet\n",
            "Sınıflandırmak istediğiniz metni girin (çıkış için 'q' girin): güzel\n",
            "\u001b[1m1/1\u001b[0m \u001b[32m━━━━━━━━━━━━━━━━━━━━\u001b[0m\u001b[37m\u001b[0m \u001b[1m0s\u001b[0m 21ms/step\n",
            "Tahmin: 0\n",
            "Başka bir sorunuz var mı? (evet/hayır): evet\n",
            "Sınıflandırmak istediğiniz metni girin (çıkış için 'q' girin): hayvan\n",
            "\u001b[1m1/1\u001b[0m \u001b[32m━━━━━━━━━━━━━━━━━━━━\u001b[0m\u001b[37m\u001b[0m \u001b[1m0s\u001b[0m 20ms/step\n",
            "Tahmin: 1\n",
            "Başka bir sorunuz var mı? (evet/hayır): evet\n",
            "Sınıflandırmak istediğiniz metni girin (çıkış için 'q' girin): ne çok hoşsun\n",
            "\u001b[1m1/1\u001b[0m \u001b[32m━━━━━━━━━━━━━━━━━━━━\u001b[0m\u001b[37m\u001b[0m \u001b[1m0s\u001b[0m 20ms/step\n",
            "Tahmin: 1\n",
            "Başka bir sorunuz var mı? (evet/hayır): hayır\n",
            "Çıkış yapılıyor...\n"
          ]
        }
      ],
      "source": [
        "def classify_message(message):\n",
        "    message = process_msg(message)\n",
        "    message_seq = [word_index.get(word, 0) for word in message.split()]\n",
        "    message_pad = pad_sequences([message_seq], maxlen=max_len)\n",
        "\n",
        "    prediction = model.predict(message_pad)\n",
        "    prediction_class = np.argmax(prediction, axis=1)\n",
        "    return label_encoder.inverse_transform(prediction_class)[0]\n",
        "\n",
        "# Test ekranı ve bitirme seçeneği\n",
        "while True:\n",
        "    message = input(\"Sınıflandırmak istediğiniz metni girin (çıkış için 'q' girin): \")\n",
        "    if message.lower() == 'q':\n",
        "        print(\"Test ekranından çıkılıyor...\")\n",
        "        break\n",
        "    prediction = classify_message(message)\n",
        "    print(f\"Tahmin: {prediction}\")\n",
        "\n",
        "    another_question = input(\"Başka bir sorunuz var mı? (evet/hayır): \")\n",
        "    if another_question.lower() != 'evet':\n",
        "        print(\"Çıkış yapılıyor...\")\n",
        "        break"
      ]
    },
    {
      "cell_type": "code",
      "execution_count": 21,
      "metadata": {
        "colab": {
          "base_uri": "https://localhost:8080/",
          "height": 1000
        },
        "id": "BXuKXO2pTFIM",
        "outputId": "e4c225be-9b03-4577-d543-c4991ff6d8c1"
      },
      "outputs": [
        {
          "output_type": "stream",
          "name": "stderr",
          "text": [
            "/usr/local/lib/python3.10/dist-packages/keras/src/layers/core/embedding.py:90: UserWarning: Argument `input_length` is deprecated. Just remove it.\n",
            "  warnings.warn(\n"
          ]
        },
        {
          "output_type": "stream",
          "name": "stdout",
          "text": [
            "\u001b[1m47/47\u001b[0m \u001b[32m━━━━━━━━━━━━━━━━━━━━\u001b[0m\u001b[37m\u001b[0m \u001b[1m1s\u001b[0m 17ms/step\n"
          ]
        },
        {
          "output_type": "stream",
          "name": "stderr",
          "text": [
            "/usr/local/lib/python3.10/dist-packages/keras/src/layers/core/embedding.py:90: UserWarning: Argument `input_length` is deprecated. Just remove it.\n",
            "  warnings.warn(\n"
          ]
        },
        {
          "output_type": "stream",
          "name": "stdout",
          "text": [
            "\u001b[1m46/46\u001b[0m \u001b[32m━━━━━━━━━━━━━━━━━━━━\u001b[0m\u001b[37m\u001b[0m \u001b[1m1s\u001b[0m 7ms/step\n"
          ]
        },
        {
          "output_type": "stream",
          "name": "stderr",
          "text": [
            "/usr/local/lib/python3.10/dist-packages/keras/src/layers/core/embedding.py:90: UserWarning: Argument `input_length` is deprecated. Just remove it.\n",
            "  warnings.warn(\n"
          ]
        },
        {
          "output_type": "stream",
          "name": "stdout",
          "text": [
            "\u001b[1m46/46\u001b[0m \u001b[32m━━━━━━━━━━━━━━━━━━━━\u001b[0m\u001b[37m\u001b[0m \u001b[1m3s\u001b[0m 10ms/step\n"
          ]
        },
        {
          "output_type": "stream",
          "name": "stderr",
          "text": [
            "/usr/local/lib/python3.10/dist-packages/keras/src/layers/core/embedding.py:90: UserWarning: Argument `input_length` is deprecated. Just remove it.\n",
            "  warnings.warn(\n"
          ]
        },
        {
          "output_type": "stream",
          "name": "stdout",
          "text": [
            "\u001b[1m46/46\u001b[0m \u001b[32m━━━━━━━━━━━━━━━━━━━━\u001b[0m\u001b[37m\u001b[0m \u001b[1m1s\u001b[0m 7ms/step\n"
          ]
        },
        {
          "output_type": "stream",
          "name": "stderr",
          "text": [
            "/usr/local/lib/python3.10/dist-packages/keras/src/layers/core/embedding.py:90: UserWarning: Argument `input_length` is deprecated. Just remove it.\n",
            "  warnings.warn(\n"
          ]
        },
        {
          "output_type": "stream",
          "name": "stdout",
          "text": [
            "\u001b[1m46/46\u001b[0m \u001b[32m━━━━━━━━━━━━━━━━━━━━\u001b[0m\u001b[37m\u001b[0m \u001b[1m1s\u001b[0m 7ms/step\n",
            "Cross-validation scores: [0.8499660491943359, 0.8240489363670349, 0.8349184989929199, 0.8383151888847351, 0.8505434989929199]\n",
            "Mean cross-validation score: 0.8395584344863891\n",
            "\n",
            "Classification Report:\n",
            "              precision    recall  f1-score   support\n",
            "\n",
            "           0       0.82      0.87      0.85      3709\n",
            "           1       0.86      0.81      0.83      3652\n",
            "\n",
            "    accuracy                           0.84      7361\n",
            "   macro avg       0.84      0.84      0.84      7361\n",
            "weighted avg       0.84      0.84      0.84      7361\n",
            "\n"
          ]
        },
        {
          "output_type": "display_data",
          "data": {
            "text/plain": [
              "<Figure size 1000x600 with 2 Axes>"
            ],
            "image/png": "[encoded data removed]"
          },
          "metadata": {}
        },
        {
          "output_type": "stream",
          "name": "stderr",
          "text": [
            "/usr/local/lib/python3.10/dist-packages/keras/src/layers/core/embedding.py:90: UserWarning: Argument `input_length` is deprecated. Just remove it.\n",
            "  warnings.warn(\n"
          ]
        },
        {
          "output_type": "stream",
          "name": "stdout",
          "text": [
            "Epoch 1/10\n",
            "\u001b[1m231/231\u001b[0m \u001b[32m━━━━━━━━━━━━━━━━━━━━\u001b[0m\u001b[37m\u001b[0m \u001b[1m11s\u001b[0m 23ms/step - accuracy: 0.6999 - loss: 0.5602\n",
            "Epoch 2/10\n",
            "\u001b[1m231/231\u001b[0m \u001b[32m━━━━━━━━━━━━━━━━━━━━\u001b[0m\u001b[37m\u001b[0m \u001b[1m11s\u001b[0m 25ms/step - accuracy: 0.8447 - loss: 0.3455\n",
            "Epoch 3/10\n",
            "\u001b[1m231/231\u001b[0m \u001b[32m━━━━━━━━━━━━━━━━━━━━\u001b[0m\u001b[37m\u001b[0m \u001b[1m11s\u001b[0m 27ms/step - accuracy: 0.8569 - loss: 0.3160\n",
            "Epoch 4/10\n",
            "\u001b[1m231/231\u001b[0m \u001b[32m━━━━━━━━━━━━━━━━━━━━\u001b[0m\u001b[37m\u001b[0m \u001b[1m5s\u001b[0m 23ms/step - accuracy: 0.8822 - loss: 0.2699\n",
            "Epoch 5/10\n",
            "\u001b[1m231/231\u001b[0m \u001b[32m━━━━━━━━━━━━━━━━━━━━\u001b[0m\u001b[37m\u001b[0m \u001b[1m6s\u001b[0m 25ms/step - accuracy: 0.8990 - loss: 0.2323\n",
            "Epoch 6/10\n",
            "\u001b[1m231/231\u001b[0m \u001b[32m━━━━━━━━━━━━━━━━━━━━\u001b[0m\u001b[37m\u001b[0m \u001b[1m10s\u001b[0m 24ms/step - accuracy: 0.9122 - loss: 0.2111\n",
            "Epoch 7/10\n",
            "\u001b[1m231/231\u001b[0m \u001b[32m━━━━━━━━━━━━━━━━━━━━\u001b[0m\u001b[37m\u001b[0m \u001b[1m6s\u001b[0m 27ms/step - accuracy: 0.9295 - loss: 0.1703\n",
            "Epoch 8/10\n",
            "\u001b[1m231/231\u001b[0m \u001b[32m━━━━━━━━━━━━━━━━━━━━\u001b[0m\u001b[37m\u001b[0m \u001b[1m5s\u001b[0m 23ms/step - accuracy: 0.9397 - loss: 0.1515\n",
            "Epoch 9/10\n",
            "\u001b[1m231/231\u001b[0m \u001b[32m━━━━━━━━━━━━━━━━━━━━\u001b[0m\u001b[37m\u001b[0m \u001b[1m6s\u001b[0m 25ms/step - accuracy: 0.9432 - loss: 0.1379\n",
            "Epoch 10/10\n",
            "\u001b[1m231/231\u001b[0m \u001b[32m━━━━━━━━━━━━━━━━━━━━\u001b[0m\u001b[37m\u001b[0m \u001b[1m10s\u001b[0m 23ms/step - accuracy: 0.9535 - loss: 0.1109\n"
          ]
        },
        {
          "output_type": "stream",
          "name": "stderr",
          "text": [
            "WARNING:absl:You are saving your model as an HDF5 file via `model.save()` or `keras.saving.save_model(model)`. This file format is considered legacy. We recommend using instead the native Keras format, e.g. `model.save('my_model.keras')` or `keras.saving.save_model(model, 'my_model.keras')`. \n",
            "WARNING:absl:Compiled the loaded model, but the compiled metrics have yet to be built. `model.compile_metrics` will be empty until you train or evaluate the model.\n"
          ]
        }
      ],
      "source": [
        "import pandas as pd\n",
        "import numpy as np\n",
        "import re\n",
        "import matplotlib.pyplot as plt\n",
        "from nltk.corpus import stopwords\n",
        "from nltk.tokenize import word_tokenize\n",
        "from sklearn.preprocessing import LabelEncoder\n",
        "from sklearn.model_selection import KFold\n",
        "from sklearn.metrics import classification_report, confusion_matrix\n",
        "from tensorflow.keras.models import Sequential, load_model\n",
        "from tensorflow.keras.layers import Embedding, LSTM, Bidirectional, Dense, Dropout\n",
        "from tensorflow.keras.preprocessing.sequence import pad_sequences\n",
        "from keras_self_attention import SeqSelfAttention\n",
        "import seaborn as sns\n",
        "\n",
        "# GloVe modelini yükleme fonksiyonu\n",
        "def load_glove_model(glove_file):\n",
        "    glove_model = {}\n",
        "    with open(glove_file, 'r', encoding='utf-8') as f:\n",
        "        for line in f:\n",
        "            values = line.split()\n",
        "            word = values[0]\n",
        "            vector = np.asarray(values[1:], dtype='float32')\n",
        "            glove_model[word] = vector\n",
        "    return glove_model\n",
        "\n",
        "# GloVe vektörlerini yükle\n",
        "glove_file = '/content/drive/My Drive/vectors.txt'\n",
        "glove_model = load_glove_model(glove_file)\n",
        "\n",
        "# Veri ön işleme fonksiyonu\n",
        "def process_msg(text):\n",
        "    text = re.sub(r'(@|https?)\\S+|#', '', text)\n",
        "    filters = '@!\"\\'#$%&()*+,-./:;<=>[\\\\]^_`{|}~\\t\\n'\n",
        "    translate_dict = dict((c, \" \") for c in filters)\n",
        "    translate_map = str.maketrans(translate_dict)\n",
        "    text = text.translate(translate_map)\n",
        "    text = text.lower().strip()\n",
        "    stop_words = set(stopwords.words('turkish'))\n",
        "    words = word_tokenize(text)\n",
        "    words_filtered = [word for word in words if word.isalpha() and word not in stop_words]\n",
        "    return ' '.join(words_filtered)\n",
        "\n",
        "# Veriyi yükleme ve ön işleme\n",
        "xt = pd.read_excel('/content/drive/My Drive/half29072024_teknofest.xlsx')\n",
        "xt = xt.dropna()\n",
        "xt['mesaj'] = xt['mesaj'].astype(str).apply(process_msg)\n",
        "\n",
        "# Etiketleri sayısal değerlere dönüştür\n",
        "y = xt['label']\n",
        "label_encoder = LabelEncoder()\n",
        "y_encoded = label_encoder.fit_transform(y)\n",
        "\n",
        "# Metinleri kelime listelerine çevirme\n",
        "X_processed = [text.split() for text in xt['mesaj']]\n",
        "\n",
        "# GloVe vektörlerini embedding matrise çevirme ve padding yapma\n",
        "max_len = 100  # Maksimum dizi uzunluğu\n",
        "embedding_dim = 300  # GloVe vektör boyutu\n",
        "embedding_matrix = np.zeros((len(glove_model) + 1, embedding_dim))\n",
        "word_index = {word: i + 1 for i, word in enumerate(glove_model.keys())}\n",
        "for word, i in word_index.items():\n",
        "    embedding_matrix[i] = glove_model[word]\n",
        "\n",
        "def get_glove_sequences(texts):\n",
        "    sequences = []\n",
        "    for text in texts:\n",
        "        sequence = [word_index.get(word, 0) for word in text if word in word_index]\n",
        "        sequences.append(sequence)\n",
        "    return pad_sequences(sequences, maxlen=max_len)\n",
        "\n",
        "X_pad = get_glove_sequences(X_processed)\n",
        "\n",
        "# Modeli oluşturma fonksiyonu\n",
        "def create_model():\n",
        "    model = Sequential()\n",
        "    model.add(Embedding(input_dim=len(word_index) + 1, output_dim=embedding_dim,\n",
        "                        weights=[embedding_matrix], input_length=max_len, trainable=False))\n",
        "    model.add(Bidirectional(LSTM(128, return_sequences=True)))\n",
        "    model.add(SeqSelfAttention(attention_activation='sigmoid'))\n",
        "    model.add(Dropout(0.5))\n",
        "    model.add(Bidirectional(LSTM(64)))\n",
        "    model.add(Dropout(0.5))\n",
        "    model.add(Dense(len(np.unique(y_encoded)), activation='softmax'))\n",
        "    model.compile(loss='sparse_categorical_crossentropy', optimizer='adam', metrics=['accuracy'])\n",
        "    return model\n",
        "\n",
        "# K-Fold Cross-Validation\n",
        "kfold = KFold(n_splits=5, shuffle=True, random_state=42)\n",
        "cv_scores = []\n",
        "conf_matrix_sum = np.zeros((len(np.unique(y_encoded)), len(np.unique(y_encoded))), dtype=np.float32)\n",
        "all_y_pred = []\n",
        "all_y_test = []\n",
        "\n",
        "for train_index, test_index in kfold.split(X_pad):\n",
        "    model = create_model()\n",
        "    model.fit(X_pad[train_index], y_encoded[train_index], epochs=10, batch_size=32, verbose=0)\n",
        "    scores = model.evaluate(X_pad[test_index], y_encoded[test_index], verbose=0)\n",
        "    cv_scores.append(scores[1])\n",
        "\n",
        "    y_pred = model.predict(X_pad[test_index])\n",
        "    y_pred_classes = np.argmax(y_pred, axis=1)\n",
        "\n",
        "    # Confusion matrix hesaplama ve toplama\n",
        "    conf_matrix = confusion_matrix(y_encoded[test_index], y_pred_classes)\n",
        "    conf_matrix_sum += conf_matrix\n",
        "\n",
        "    all_y_pred.extend(y_pred_classes)\n",
        "    all_y_test.extend(y_encoded[test_index])\n",
        "\n",
        "# Confusion Matrix ortalaması\n",
        "conf_matrix_avg = np.round(conf_matrix_sum / kfold.get_n_splits()).astype(int)\n",
        "\n",
        "# Performans değerlendirme ve görselleştirme\n",
        "print(f\"Cross-validation scores: {cv_scores}\")\n",
        "print(f\"Mean cross-validation score: {np.mean(cv_scores)}\")\n",
        "\n",
        "# `target_names`'i string listesi olarak ayarlayın\n",
        "target_names = list(map(str, label_encoder.classes_))\n",
        "class_report = classification_report(all_y_test, all_y_pred, target_names=target_names)\n",
        "print(\"\\nClassification Report:\")\n",
        "print(class_report)\n",
        "\n",
        "# Confusion Matrix'i grafiksel olarak gösterme\n",
        "plt.figure(figsize=(10, 6))\n",
        "sns.heatmap(conf_matrix_avg, annot=True, fmt='d', cmap='Blues', xticklabels=target_names, yticklabels=target_names)\n",
        "plt.title('BiLSTM+Glove Confusion Matrix (Average)')\n",
        "plt.xlabel('Predicted')\n",
        "plt.ylabel('Actual')\n",
        "plt.show()\n",
        "\n",
        "# Modeli eğit ve kaydet\n",
        "model = create_model()\n",
        "model.fit(X_pad, y_encoded, epochs=10, batch_size=32, verbose=1)\n",
        "model.save('text_classification_model.h5')\n",
        "\n",
        "# Modeli yükleme ve sınıflandırma fonksiyonu\n",
        "model = load_model('text_classification_model.h5', custom_objects={'SeqSelfAttention': SeqSelfAttention})\n",
        "\n"
      ]
    },
    {
      "cell_type": "code",
      "execution_count": 24,
      "metadata": {
        "id": "iGR_LKoMTIzp",
        "colab": {
          "base_uri": "https://localhost:8080/"
        },
        "outputId": "b227b546-4e10-4f81-a1d0-5927d723ba0b"
      },
      "outputs": [
        {
          "output_type": "stream",
          "name": "stdout",
          "text": [
            "Sınıflandırmak istediğiniz metni girin (çıkış için 'q' girin): salak\n",
            "\u001b[1m1/1\u001b[0m \u001b[32m━━━━━━━━━━━━━━━━━━━━\u001b[0m\u001b[37m\u001b[0m \u001b[1m0s\u001b[0m 23ms/step\n",
            "Tahmin: 1\n",
            "Başka bir sorunuz var mı? (evet/hayır): evet\n",
            "Sınıflandırmak istediğiniz metni girin (çıkış için 'q' girin): merhaba\n",
            "\u001b[1m1/1\u001b[0m \u001b[32m━━━━━━━━━━━━━━━━━━━━\u001b[0m\u001b[37m\u001b[0m \u001b[1m0s\u001b[0m 23ms/step\n",
            "Tahmin: 1\n",
            "Başka bir sorunuz var mı? (evet/hayır): evet\n",
            "Sınıflandırmak istediğiniz metni girin (çıkış için 'q' girin): nasılsın\n",
            "\u001b[1m1/1\u001b[0m \u001b[32m━━━━━━━━━━━━━━━━━━━━\u001b[0m\u001b[37m\u001b[0m \u001b[1m0s\u001b[0m 21ms/step\n",
            "Tahmin: 0\n",
            "Başka bir sorunuz var mı? (evet/hayır): evet\n",
            "Sınıflandırmak istediğiniz metni girin (çıkış için 'q' girin): köpek\n",
            "\u001b[1m1/1\u001b[0m \u001b[32m━━━━━━━━━━━━━━━━━━━━\u001b[0m\u001b[37m\u001b[0m \u001b[1m0s\u001b[0m 22ms/step\n",
            "Tahmin: 1\n",
            "Başka bir sorunuz var mı? (evet/hayır): hayır\n",
            "Çıkış yapılıyor...\n"
          ]
        }
      ],
      "source": [
        "def classify_message(message):\n",
        "    message = process_msg(message)\n",
        "    message_seq = [word_index.get(word, 0) for word in message.split()]\n",
        "    message_pad = pad_sequences([message_seq], maxlen=max_len)\n",
        "\n",
        "    prediction = model.predict(message_pad)\n",
        "    prediction_class = np.argmax(prediction, axis=1)\n",
        "    return label_encoder.inverse_transform(prediction_class)[0]\n",
        "\n",
        "# Test ekranı ve bitirme seçeneği\n",
        "while True:\n",
        "    message = input(\"Sınıflandırmak istediğiniz metni girin (çıkış için 'q' girin): \")\n",
        "    if message.lower() == 'q':\n",
        "        print(\"Test ekranından çıkılıyor...\")\n",
        "        break\n",
        "    prediction = classify_message(message)\n",
        "    print(f\"Tahmin: {prediction}\")\n",
        "\n",
        "    another_question = input(\"Başka bir sorunuz var mı? (evet/hayır): \")\n",
        "    if another_question.lower() != 'evet':\n",
        "        print(\"Çıkış yapılıyor...\")\n",
        "        break"
      ]
    }
  ],
  "metadata": {
    "accelerator": "GPU",
    "colab": {
      "gpuType": "T4",
      "provenance": []
    },
    "kernelspec": {
      "display_name": "Python 3",
      "name": "python3"
    },
    "language_info": {
      "codemirror_mode": {
        "name": "ipython",
        "version": 3
      },
      "file_extension": ".py",
      "mimetype": "text/x-python",
      "name": "python",
      "nbconvert_exporter": "python",
      "pygments_lexer": "ipython3",
      "version": "3.12.3"
    }
  },
  "nbformat": 4,
  "nbformat_minor": 0
}